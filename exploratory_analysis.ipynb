{
 "cells": [
  {
   "cell_type": "markdown",
   "metadata": {},
   "source": [
    "# Michelin Star Restaurant Guide Dashboard"
   ]
  },
  {
   "cell_type": "markdown",
   "metadata": {},
   "source": [
    "## Dataset Attributes\n",
    "\n",
    "- **Name**: The name of the Michelin-starred restaurant.\n",
    "- **Address**: The full street address of the restaurant.\n",
    "- **Location**: The city and country where the restaurant is located.\n",
    "- **Price**: Price range indicator, using $ symbols (e.g. $$$$ for very expensive).\n",
    "- **Cuisine**: The type or style of cuisine served at the restaurant.\n",
    "- **Longitude**: The geographic longitude coordinate of the restaurant's location.\n",
    "- **Latitude**: The geographic latitude coordinate of the restaurant's location.\n",
    "- **PhoneNumber**: The contact phone number for the restaurant.\n",
    "- **Url**: The URL of the restaurant's page on the official Michelin Guide website.\n",
    "- **WebsiteUrl**: The URL of the restaurant's own official website.\n",
    "- **Award**: The Michelin star rating awarded to the restaurant (e.g. \"3 Stars\").\n",
    "- **GreenStar**: A binary indicator (0 or 1) of whether the restaurant has received a Michelin Green Star for sustainability.\n",
    "- **FacilitiesAndServices**: A list of amenities and services offered by the restaurant.\n",
    "- **Description**: A brief description of the restaurant, often including details about the chef and cuisine."
   ]
  },
  {
   "cell_type": "markdown",
   "metadata": {},
   "source": [
    "## Dependency"
   ]
  },
  {
   "cell_type": "code",
   "execution_count": null,
   "metadata": {},
   "outputs": [],
   "source": [
    "# %pip install -r .\\requirements-dev.txt\n",
    "# %pip install -q pandas plotly dash dash-bootstrap-components pyarrow python-dotenv ipykernel nbformat\n",
    "\n",
    "# %pip freeze > requirements.txt # WARNING!! run this only on a linux distro or wsl with only prod dependencies"
   ]
  },
  {
   "cell_type": "markdown",
   "metadata": {},
   "source": [
    "### Imports"
   ]
  },
  {
   "cell_type": "code",
   "execution_count": null,
   "metadata": {},
   "outputs": [],
   "source": [
    "import pandas as pd\n",
    "\n",
    "# import pyarrow as pa\n",
    "import plotly.express as px\n",
    "import plotly.io as pio\n",
    "\n",
    "from pandas import DataFrame\n",
    "from IPython.core.interactiveshell import InteractiveShell\n",
    "\n",
    "pio.renderers.default = \"notebook_connected\"\n",
    "\n",
    "\n",
    "InteractiveShell.ast_node_interactivity = \"all\"\n",
    "\n",
    "pd.set_option(\"display.max_columns\", None)\n",
    "pd.options.mode.copy_on_write = True"
   ]
  },
  {
   "cell_type": "markdown",
   "metadata": {},
   "source": [
    "## Dataset"
   ]
  },
  {
   "cell_type": "code",
   "execution_count": null,
   "metadata": {},
   "outputs": [],
   "source": [
    "from src.data_cleaning import CSV_PATH, read_csv\n",
    "\n",
    "\n",
    "df = read_csv(CSV_PATH)"
   ]
  },
  {
   "cell_type": "code",
   "execution_count": null,
   "metadata": {},
   "outputs": [],
   "source": [
    "df.head()"
   ]
  },
  {
   "cell_type": "markdown",
   "metadata": {},
   "source": [
    "## Data cleaning"
   ]
  },
  {
   "cell_type": "code",
   "execution_count": null,
   "metadata": {},
   "outputs": [],
   "source": [
    "df.info()"
   ]
  },
  {
   "cell_type": "code",
   "execution_count": null,
   "metadata": {},
   "outputs": [],
   "source": [
    "from src.data_cleaning import (\n",
    "    clean_data,\n",
    "    select_unique_location_city_where_location_country_is_missing,\n",
    ")\n",
    "\n",
    "\n",
    "df_clean = clean_data(df.copy())\n",
    "df_clean.head()\n",
    "\n",
    "\n",
    "missing_countries = select_unique_location_city_where_location_country_is_missing(\n",
    "    df_clean\n",
    ")\n",
    "if missing_countries.size > 0:\n",
    "    missing_countries\n",
    "    raise Exception(\"Missing countries found\")"
   ]
  },
  {
   "cell_type": "markdown",
   "metadata": {},
   "source": [
    "### FacilitiesAndServices columns"
   ]
  },
  {
   "cell_type": "code",
   "execution_count": null,
   "metadata": {},
   "outputs": [],
   "source": [
    "from src.data_cleaning import get_facilitiesandservices_df\n",
    "\n",
    "\n",
    "df_facilitiesandservices = get_facilitiesandservices_df(df_clean)\n",
    "df_facilitiesandservices.head()"
   ]
  },
  {
   "cell_type": "markdown",
   "metadata": {},
   "source": [
    "### Cuisine columns"
   ]
  },
  {
   "cell_type": "code",
   "execution_count": null,
   "metadata": {},
   "outputs": [],
   "source": [
    "from src.data_cleaning import get_cuisine_df\n",
    "\n",
    "\n",
    "df_cuisine = get_cuisine_df(df_clean)\n",
    "df_cuisine.head()"
   ]
  },
  {
   "cell_type": "markdown",
   "metadata": {},
   "source": [
    "## Data quality"
   ]
  },
  {
   "cell_type": "markdown",
   "metadata": {},
   "source": [
    "### Duplicate rows"
   ]
  },
  {
   "cell_type": "markdown",
   "metadata": {},
   "source": [
    "#### Primary column"
   ]
  },
  {
   "cell_type": "code",
   "execution_count": null,
   "metadata": {},
   "outputs": [],
   "source": [
    "primary_col = df_clean[[\"Name\", \"Address\"]].value_counts()\n",
    "\n",
    "if primary_col[primary_col > 1].size > 0:\n",
    "    primary_col[primary_col > 1]\n",
    "    raise Exception(\"Duplicate records found\")"
   ]
  },
  {
   "cell_type": "markdown",
   "metadata": {},
   "source": [
    "### Missing values"
   ]
  },
  {
   "cell_type": "code",
   "execution_count": null,
   "metadata": {},
   "outputs": [],
   "source": [
    "_ = df_clean.isna().sum()\n",
    "_[_ > 0]"
   ]
  },
  {
   "cell_type": "markdown",
   "metadata": {},
   "source": [
    "## EDA"
   ]
  },
  {
   "cell_type": "code",
   "execution_count": null,
   "metadata": {},
   "outputs": [],
   "source": [
    "pd.concat(\n",
    "    [\n",
    "        df_clean.describe(include=[\"object\"]).loc[\n",
    "            :,\n",
    "            [\n",
    "                \"Location_city\",\n",
    "                \"Location_country\",\n",
    "                \"Standardized_Price\",\n",
    "                \"Award\",\n",
    "            ],\n",
    "        ],\n",
    "        df[\"GreenStar\"].astype(\"object\").describe(),\n",
    "        df_cuisine.describe()[\"Cuisine\"],\n",
    "        df_facilitiesandservices.describe()[\"FacilitiesAndServices\"],\n",
    "    ],\n",
    "    axis=1,\n",
    ")\n"
   ]
  },
  {
   "cell_type": "markdown",
   "metadata": {},
   "source": [
    "### Awards"
   ]
  },
  {
   "cell_type": "code",
   "execution_count": null,
   "metadata": {},
   "outputs": [],
   "source": [
    "df_clean.groupby(\"Award\")[\"Name\"].count().sort_values(ascending=False)"
   ]
  },
  {
   "cell_type": "markdown",
   "metadata": {},
   "source": [
    "## Plots"
   ]
  },
  {
   "cell_type": "markdown",
   "metadata": {},
   "source": [
    "### Scatter map"
   ]
  },
  {
   "cell_type": "code",
   "execution_count": null,
   "metadata": {},
   "outputs": [],
   "source": [
    "from src.figures import award_by_city_scattermap\n",
    "\n",
    "fig = award_by_city_scattermap(df_clean, \"Dubai\")\n",
    "fig.show()\n"
   ]
  },
  {
   "cell_type": "markdown",
   "metadata": {},
   "source": [
    "### Bar"
   ]
  },
  {
   "cell_type": "code",
   "execution_count": null,
   "metadata": {},
   "outputs": [],
   "source": [
    "from src.figures import awards_by_city_bar\n",
    "\n",
    "\n",
    "fig = awards_by_city_bar(df_clean, \"Dubai\")\n",
    "fig.show()"
   ]
  },
  {
   "cell_type": "markdown",
   "metadata": {},
   "source": [
    "### Table"
   ]
  },
  {
   "cell_type": "code",
   "execution_count": null,
   "metadata": {},
   "outputs": [],
   "source": [
    "# TODO def facilitiesandservices_by_city_table():"
   ]
  }
 ],
 "metadata": {
  "language_info": {
   "name": "python",
   "pygments_lexer": "ipython3"
  }
 },
 "nbformat": 4,
 "nbformat_minor": 2
}
